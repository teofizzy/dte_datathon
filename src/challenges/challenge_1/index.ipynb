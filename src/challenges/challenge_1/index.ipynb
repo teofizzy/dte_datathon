{
 "cells": [
  {
   "cell_type": "code",
   "execution_count": 5,
   "id": "a6d00052-5e90-4a89-91cf-b8c25d069910",
   "metadata": {},
   "outputs": [],
   "source": [
    "# load dependencies\n",
    "import pandas as pd\n",
    "import numpy as npx\n",
    "import geopandas as gpd\n",
    "import geopy as gpy\n",
    "import os\n",
    "import matplotlib.pyplot as plt\n",
    "%matplotlib inline"
   ]
  },
  {
   "cell_type": "code",
   "execution_count": 38,
   "id": "88902e5f-4747-4308-a327-392981bef28a",
   "metadata": {},
   "outputs": [],
   "source": [
    "ke_urban_target_path = 'src/data/ke_urbanareas/ke_urbanareas.shp'\n",
    "ke_major_towns_path = 'src/data/ke_major-towns/ke_major-towns.shp'\n",
    "base_dir = '/home/teofilo_acholla_ligawa_gafna/Documents/python_practice/collaborations/dte_datathon/'\n",
    "ke_urban_file_path = base_dir+ke_urban_target_path\n",
    "ke_major_towns_file_path = base_dir+ke_major_towns_path\n",
    "\n",
    "# read the urban and major towns files\n",
    "ke_urban = gpd.read_file(ke_urban_file_path)\n",
    "ke_major_towns = gpd.read_file(ke_major_towns_file_path)"
   ]
  },
  {
   "cell_type": "code",
   "execution_count": 39,
   "id": "77c3ab7e-0c8a-4620-b43a-2fd18d1dd271",
   "metadata": {},
   "outputs": [
    {
     "data": {
      "text/html": [
       "<div>\n",
       "<style scoped>\n",
       "    .dataframe tbody tr th:only-of-type {\n",
       "        vertical-align: middle;\n",
       "    }\n",
       "\n",
       "    .dataframe tbody tr th {\n",
       "        vertical-align: top;\n",
       "    }\n",
       "\n",
       "    .dataframe thead th {\n",
       "        text-align: right;\n",
       "    }\n",
       "</style>\n",
       "<table border=\"1\" class=\"dataframe\">\n",
       "  <thead>\n",
       "    <tr style=\"text-align: right;\">\n",
       "      <th></th>\n",
       "      <th>URID</th>\n",
       "      <th>URNAME</th>\n",
       "      <th>geometry</th>\n",
       "    </tr>\n",
       "  </thead>\n",
       "  <tbody>\n",
       "    <tr>\n",
       "      <th>0</th>\n",
       "      <td>UR</td>\n",
       "      <td>Urban and associated areas, rural settlements</td>\n",
       "      <td>POLYGON ((36.71925 -1.31900, 36.71900 -1.31917...</td>\n",
       "    </tr>\n",
       "    <tr>\n",
       "      <th>1</th>\n",
       "      <td>UR</td>\n",
       "      <td>Urban and associated areas, rural settlements</td>\n",
       "      <td>POLYGON ((36.79016 -1.32067, 36.79011 -1.32072...</td>\n",
       "    </tr>\n",
       "    <tr>\n",
       "      <th>2</th>\n",
       "      <td>UR</td>\n",
       "      <td>Urban and associated areas, rural settlements</td>\n",
       "      <td>POLYGON ((36.67917 -1.33357, 36.67925 -1.33371...</td>\n",
       "    </tr>\n",
       "    <tr>\n",
       "      <th>3</th>\n",
       "      <td>UR</td>\n",
       "      <td>Urban and associated areas, rural settlements</td>\n",
       "      <td>POLYGON ((36.90098 -1.34641, 36.90098 -1.34760...</td>\n",
       "    </tr>\n",
       "    <tr>\n",
       "      <th>4</th>\n",
       "      <td>UR</td>\n",
       "      <td>Urban and associated areas, rural settlements</td>\n",
       "      <td>POLYGON ((36.70578 -1.36347, 36.70481 -1.36330...</td>\n",
       "    </tr>\n",
       "  </tbody>\n",
       "</table>\n",
       "</div>"
      ],
      "text/plain": [
       "  URID                                         URNAME  \\\n",
       "0   UR  Urban and associated areas, rural settlements   \n",
       "1   UR  Urban and associated areas, rural settlements   \n",
       "2   UR  Urban and associated areas, rural settlements   \n",
       "3   UR  Urban and associated areas, rural settlements   \n",
       "4   UR  Urban and associated areas, rural settlements   \n",
       "\n",
       "                                            geometry  \n",
       "0  POLYGON ((36.71925 -1.31900, 36.71900 -1.31917...  \n",
       "1  POLYGON ((36.79016 -1.32067, 36.79011 -1.32072...  \n",
       "2  POLYGON ((36.67917 -1.33357, 36.67925 -1.33371...  \n",
       "3  POLYGON ((36.90098 -1.34641, 36.90098 -1.34760...  \n",
       "4  POLYGON ((36.70578 -1.36347, 36.70481 -1.36330...  "
      ]
     },
     "execution_count": 39,
     "metadata": {},
     "output_type": "execute_result"
    }
   ],
   "source": [
    "# plot urban areas in Kenya\n",
    "ke_urban.head()"
   ]
  },
  {
   "cell_type": "code",
   "execution_count": 40,
   "id": "0c4880ba-5d4c-4343-a2e1-d958ae8465d7",
   "metadata": {
    "editable": true,
    "slideshow": {
     "slide_type": ""
    },
    "tags": []
   },
   "outputs": [
    {
     "data": {
      "image/png": "[encoded data removed]",
      "text/plain": [
       "<Figure size 640x480 with 1 Axes>"
      ]
     },
     "metadata": {},
     "output_type": "display_data"
    }
   ],
   "source": [
    "ke_urban.plot()\n",
    "plt.show()"
   ]
  },
  {
   "cell_type": "code",
   "execution_count": null,
   "id": "5fe8299c-7cca-4439-8e74-cf75b3b39f4b",
   "metadata": {},
   "outputs": [],
   "source": []
  }
 ],
 "metadata": {
  "kernelspec": {
   "display_name": "Python (fizzy_env)",
   "language": "python",
   "name": "fizzy_env"
  },
  "language_info": {
   "codemirror_mode": {
    "name": "ipython",
    "version": 3
   },
   "file_extension": ".py",
   "mimetype": "text/x-python",
   "name": "python",
   "nbconvert_exporter": "python",
   "pygments_lexer": "ipython3",
   "version": "3.9.16"
  }
 },
 "nbformat": 4,
 "nbformat_minor": 5
}
